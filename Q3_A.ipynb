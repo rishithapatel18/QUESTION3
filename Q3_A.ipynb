{
 "cells": [
  {
   "cell_type": "code",
   "execution_count": 4,
   "id": "9d8a38dd-3a65-4998-ae4a-4caff3846bfc",
   "metadata": {},
   "outputs": [
    {
     "name": "stdout",
     "output_type": "stream",
     "text": [
      "Requirement already satisfied: opencv-python in c:\\users\\rishitha\\anaconda3\\lib\\site-packages (4.9.0.80)Note: you may need to restart the kernel to use updated packages.\n",
      "\n",
      "Requirement already satisfied: numpy>=1.21.2 in c:\\users\\rishitha\\anaconda3\\lib\\site-packages (from opencv-python) (1.26.4)\n"
     ]
    }
   ],
   "source": [
    "pip install opencv-python\n"
   ]
  },
  {
   "cell_type": "code",
   "execution_count": null,
   "id": "3cceb381-0fa9-48ac-9104-c8b0eb2f5572",
   "metadata": {},
   "outputs": [],
   "source": [
    "import cv2 as cv\n",
    "import numpy as np \n",
    "#importing the libraries required\n",
    "  \n",
    "#capture the live video of webcam\n",
    "cap = cv.VideoCapture(0) \n",
    "\n",
    "#the loop iterates\n",
    "while(1): \n",
    "    #as 2nd question splitting video to multiple frames\n",
    "    _, frame = cap.read() \n",
    "    # It converts the BGR color space of image to HSV color space \n",
    "    hsv = cv.cvtColor(frame, cv.COLOR_BGR2HSV) \n",
    "      \n",
    "    #creating the range of red color shade  to detect\n",
    "    #got rgb values from google :D \n",
    "    lower_red = np.array([160, 20, 70]) \n",
    "    upper_red = np.array([190, 255, 255]) \n",
    "  \n",
    "    # preparing the mask to overlay \n",
    "    mask = cv.inRange(hsv, lower_red, upper_red) \n",
    "      \n",
    "   #shows original and masked ones\n",
    "   #jupyter notebook can't show cv image directly \n",
    "   #this can be done in to ways- 1> converting to bgr\n",
    "   #                             2> using matplotlib\n",
    "    frame_rgb = cv.cvtColor(frame, cv.COLOR_BGR2RGB) \n",
    "    mask_rgb = cv.cvtColor(mask, cv.COLOR_BGR2RGB) \n",
    "    cv.imshow('frame', frame_rgb) \n",
    "    cv.imshow('mask', mask_rgb) \n",
    "\n",
    "    \n",
    "    #the loop iterates untill u enter 1 or 'a'\n",
    "    if cv.waitKey(1) & 0xFF == ord('a'):\n",
    "        break\n",
    " \n",
    "#one done we have to destroy all the windows\n",
    "cap.release() \n",
    "cv.destroyAllWindows() \n",
    " "
   ]
  }
 ],
 "metadata": {
  "kernelspec": {
   "display_name": "Python 3 (ipykernel)",
   "language": "python",
   "name": "python3"
  },
  "language_info": {
   "codemirror_mode": {
    "name": "ipython",
    "version": 3
   },
   "file_extension": ".py",
   "mimetype": "text/x-python",
   "name": "python",
   "nbconvert_exporter": "python",
   "pygments_lexer": "ipython3",
   "version": "3.11.7"
  }
 },
 "nbformat": 4,
 "nbformat_minor": 5
}
